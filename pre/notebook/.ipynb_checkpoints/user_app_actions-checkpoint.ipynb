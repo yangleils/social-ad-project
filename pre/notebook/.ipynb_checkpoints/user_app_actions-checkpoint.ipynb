{
 "cells": [
  {
   "cell_type": "code",
   "execution_count": 1,
   "metadata": {
    "collapsed": true
   },
   "outputs": [],
   "source": [
    "import pandas as pd\n",
    "from pandas import DataFrame\n",
    "from pandas import Series\n",
    "\n",
    "import numpy as np\n",
    "import matplotlib.pyplot as plt"
   ]
  },
  {
   "cell_type": "markdown",
   "metadata": {},
   "source": [
    "### 设置路径"
   ]
  },
  {
   "cell_type": "code",
   "execution_count": 2,
   "metadata": {
    "collapsed": true
   },
   "outputs": [],
   "source": [
    "path_pre = '../'\n",
    "path_original_dataset = path_pre + 'original-dataset/'"
   ]
  },
  {
   "cell_type": "markdown",
   "metadata": {},
   "source": [
    "### 加载数据"
   ]
  },
  {
   "cell_type": "code",
   "execution_count": 3,
   "metadata": {
    "collapsed": true
   },
   "outputs": [],
   "source": [
    "user_app_actions_df = pd.read_csv(path_original_dataset + 'user_app_actions.csv')"
   ]
  },
  {
   "cell_type": "code",
   "execution_count": 4,
   "metadata": {
    "collapsed": false
   },
   "outputs": [
    {
     "data": {
      "text/html": [
       "<div>\n",
       "<table border=\"1\" class=\"dataframe\">\n",
       "  <thead>\n",
       "    <tr style=\"text-align: right;\">\n",
       "      <th></th>\n",
       "      <th>userID</th>\n",
       "      <th>installTime</th>\n",
       "      <th>appID</th>\n",
       "    </tr>\n",
       "  </thead>\n",
       "  <tbody>\n",
       "    <tr>\n",
       "      <th>0</th>\n",
       "      <td>1</td>\n",
       "      <td>182032</td>\n",
       "      <td>933</td>\n",
       "    </tr>\n",
       "    <tr>\n",
       "      <th>1</th>\n",
       "      <td>5</td>\n",
       "      <td>141354</td>\n",
       "      <td>589</td>\n",
       "    </tr>\n",
       "    <tr>\n",
       "      <th>2</th>\n",
       "      <td>5</td>\n",
       "      <td>251727</td>\n",
       "      <td>565</td>\n",
       "    </tr>\n",
       "    <tr>\n",
       "      <th>3</th>\n",
       "      <td>5</td>\n",
       "      <td>260932</td>\n",
       "      <td>596</td>\n",
       "    </tr>\n",
       "    <tr>\n",
       "      <th>4</th>\n",
       "      <td>5</td>\n",
       "      <td>261318</td>\n",
       "      <td>536</td>\n",
       "    </tr>\n",
       "  </tbody>\n",
       "</table>\n",
       "</div>"
      ],
      "text/plain": [
       "   userID  installTime  appID\n",
       "0       1       182032    933\n",
       "1       5       141354    589\n",
       "2       5       251727    565\n",
       "3       5       260932    596\n",
       "4       5       261318    536"
      ]
     },
     "execution_count": 4,
     "metadata": {},
     "output_type": "execute_result"
    }
   ],
   "source": [
    "user_app_actions_df.head()"
   ]
  },
  {
   "cell_type": "code",
   "execution_count": 5,
   "metadata": {
    "collapsed": false
   },
   "outputs": [
    {
     "data": {
      "text/plain": [
       "6003471"
      ]
     },
     "execution_count": 5,
     "metadata": {},
     "output_type": "execute_result"
    }
   ],
   "source": [
    "user_app_actions_df.index.size"
   ]
  },
  {
   "cell_type": "markdown",
   "metadata": {},
   "source": [
    "### 每天的行为情况"
   ]
  },
  {
   "cell_type": "code",
   "execution_count": 6,
   "metadata": {
    "collapsed": true
   },
   "outputs": [],
   "source": [
    "installTime_day = (user_app_actions_df['installTime'] / 10000).astype(int)"
   ]
  },
  {
   "cell_type": "code",
   "execution_count": 7,
   "metadata": {
    "collapsed": false
   },
   "outputs": [
    {
     "data": {
      "image/png": "[encoded data removed]",
      "text/plain": [
       "<matplotlib.figure.Figure at 0x7f527f3c8f28>"
      ]
     },
     "metadata": {},
     "output_type": "display_data"
    }
   ],
   "source": [
    "installTime_day.value_counts().plot(figsize=(16,4), style='*')\n",
    "plt.xlim([-1, 31])\n",
    "plt.show()"
   ]
  },
  {
   "cell_type": "markdown",
   "metadata": {},
   "source": [
    "![](data:image/png;base64,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)"
   ]
  },
  {
   "cell_type": "markdown",
   "metadata": {},
   "source": [
    "### 每个小时的行为情况"
   ]
  },
  {
   "cell_type": "code",
   "execution_count": 8,
   "metadata": {
    "collapsed": true
   },
   "outputs": [],
   "source": [
    "installTime_hour = (user_app_actions_df['installTime'] / 100 % 100).astype(int)"
   ]
  },
  {
   "cell_type": "code",
   "execution_count": 9,
   "metadata": {
    "collapsed": false
   },
   "outputs": [
    {
     "data": {
      "image/png": "[encoded data removed]",
      "text/plain": [
       "<matplotlib.figure.Figure at 0x7f527f0615c0>"
      ]
     },
     "metadata": {},
     "output_type": "display_data"
    }
   ],
   "source": [
    "installTime_hour.value_counts().plot(figsize=(16,4), style='*')\n",
    "plt.xlim([-0.5, 23.5])\n",
    "plt.show()"
   ]
  },
  {
   "cell_type": "markdown",
   "metadata": {
    "collapsed": true
   },
   "source": [
    "### 观察每个用户的行为特点"
   ]
  },
  {
   "cell_type": "code",
   "execution_count": 10,
   "metadata": {
    "collapsed": true
   },
   "outputs": [],
   "source": [
    "grouped = user_app_actions_df[['userID', 'installTime']].groupby('userID')"
   ]
  },
  {
   "cell_type": "code",
   "execution_count": 16,
   "metadata": {
    "collapsed": false
   },
   "outputs": [
    {
     "data": {
      "text/plain": [
       "2707361    755\n",
       "1549988    408\n",
       "2429664    408\n",
       "2138091    408\n",
       "918391     326\n",
       "2529834    310\n",
       "2382573    310\n",
       "1860426    310\n",
       "1236269    295\n",
       "7202       295\n",
       "253802     295\n",
       "576102     295\n",
       "1228804    286\n",
       "325319     286\n",
       "2048618    285\n",
       "1792862    285\n",
       "495434     285\n",
       "1249292    285\n",
       "299771     285\n",
       "332909     285\n",
       "Name: userID, dtype: int64"
      ]
     },
     "execution_count": 16,
     "metadata": {},
     "output_type": "execute_result"
    }
   ],
   "source": [
    "user_app_actions_df['userID'].value_counts().head(20)"
   ]
  },
  {
   "cell_type": "code",
   "execution_count": 17,
   "metadata": {
    "collapsed": false
   },
   "outputs": [
    {
     "data": {
      "text/plain": [
       "11    174\n",
       "12    145\n",
       "13    142\n",
       "14     90\n",
       "10     85\n",
       "17     37\n",
       "15     30\n",
       "16     24\n",
       "18     20\n",
       "19      5\n",
       "20      1\n",
       "8       1\n",
       "6       1\n",
       "Name: installTime, dtype: int64"
      ]
     },
     "execution_count": 17,
     "metadata": {},
     "output_type": "execute_result"
    }
   ],
   "source": [
    "installTime = user_app_actions_df.loc[user_app_actions_df['userID'] == 2707361, 'installTime']\n",
    "(installTime / 100 % 100).astype(int).value_counts()"
   ]
  },
  {
   "cell_type": "code",
   "execution_count": 18,
   "metadata": {
    "collapsed": false
   },
   "outputs": [
    {
     "data": {
      "text/plain": [
       "16    30\n",
       "19    27\n",
       "18    24\n",
       "15    24\n",
       "12    22\n",
       "11    20\n",
       "14    20\n",
       "17    18\n",
       "13    16\n",
       "9     15\n",
       "20    13\n",
       "10    12\n",
       "0      9\n",
       "22     8\n",
       "21     8\n",
       "1      6\n",
       "23     6\n",
       "8      2\n",
       "4      2\n",
       "3      2\n",
       "2      1\n",
       "Name: installTime, dtype: int64"
      ]
     },
     "execution_count": 18,
     "metadata": {},
     "output_type": "execute_result"
    }
   ],
   "source": [
    "installTime = user_app_actions_df.loc[user_app_actions_df['userID'] == 332909, 'installTime']\n",
    "(installTime / 100 % 100).astype(int).value_counts()"
   ]
  },
  {
   "cell_type": "markdown",
   "metadata": {},
   "source": [
    "由此可见，很难提取出有用特征"
   ]
  },
  {
   "cell_type": "code",
   "execution_count": null,
   "metadata": {
    "collapsed": true
   },
   "outputs": [],
   "source": []
  }
 ],
 "metadata": {
  "kernelspec": {
   "display_name": "Python 3",
   "language": "python",
   "name": "python3"
  },
  "language_info": {
   "codemirror_mode": {
    "name": "ipython",
    "version": 3
   },
   "file_extension": ".py",
   "mimetype": "text/x-python",
   "name": "python",
   "nbconvert_exporter": "python",
   "pygments_lexer": "ipython3",
   "version": "3.6.0"
  }
 },
 "nbformat": 4,
 "nbformat_minor": 2
}
