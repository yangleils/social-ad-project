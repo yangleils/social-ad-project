{
 "cells": [
  {
   "cell_type": "code",
   "execution_count": 1,
   "metadata": {
    "collapsed": true
   },
   "outputs": [],
   "source": [
    "import pandas as pd\n",
    "from pandas import DataFrame\n",
    "from pandas import Series\n",
    "\n",
    "import numpy as np\n",
    "import matplotlib.pyplot as plt"
   ]
  },
  {
   "cell_type": "markdown",
   "metadata": {},
   "source": [
    "### 设置路径"
   ]
  },
  {
   "cell_type": "code",
   "execution_count": 2,
   "metadata": {
    "collapsed": true
   },
   "outputs": [],
   "source": [
    "path_pre = '../../'\n",
    "path_original_dataset = path_pre + 'original-dataset/'\n",
    "path_intermediate_dataset = path_pre + 'intermediate-dataset/'"
   ]
  },
  {
   "cell_type": "markdown",
   "metadata": {},
   "source": [
    "### 加载 train.h5"
   ]
  },
  {
   "cell_type": "code",
   "execution_count": 3,
   "metadata": {
    "collapsed": false
   },
   "outputs": [
    {
     "data": {
      "text/html": [
       "<div>\n",
       "<table border=\"1\" class=\"dataframe\">\n",
       "  <thead>\n",
       "    <tr style=\"text-align: right;\">\n",
       "      <th></th>\n",
       "      <th>label</th>\n",
       "      <th>clickTime</th>\n",
       "      <th>conversionTime</th>\n",
       "      <th>creativeID</th>\n",
       "      <th>userID</th>\n",
       "      <th>positionID</th>\n",
       "      <th>connectionType</th>\n",
       "      <th>telecomsOperator</th>\n",
       "    </tr>\n",
       "  </thead>\n",
       "  <tbody>\n",
       "    <tr>\n",
       "      <th>3608772</th>\n",
       "      <td>0</td>\n",
       "      <td>301730</td>\n",
       "      <td>NaN</td>\n",
       "      <td>4565</td>\n",
       "      <td>1</td>\n",
       "      <td>1803</td>\n",
       "      <td>2</td>\n",
       "      <td>1.0</td>\n",
       "    </tr>\n",
       "    <tr>\n",
       "      <th>2362282</th>\n",
       "      <td>0</td>\n",
       "      <td>261335</td>\n",
       "      <td>NaN</td>\n",
       "      <td>4121</td>\n",
       "      <td>2</td>\n",
       "      <td>1842</td>\n",
       "      <td>1</td>\n",
       "      <td>2.0</td>\n",
       "    </tr>\n",
       "    <tr>\n",
       "      <th>415865</th>\n",
       "      <td>0</td>\n",
       "      <td>181549</td>\n",
       "      <td>NaN</td>\n",
       "      <td>274</td>\n",
       "      <td>4</td>\n",
       "      <td>3322</td>\n",
       "      <td>1</td>\n",
       "      <td>2.0</td>\n",
       "    </tr>\n",
       "    <tr>\n",
       "      <th>2139782</th>\n",
       "      <td>0</td>\n",
       "      <td>251726</td>\n",
       "      <td>NaN</td>\n",
       "      <td>3362</td>\n",
       "      <td>5</td>\n",
       "      <td>7434</td>\n",
       "      <td>1</td>\n",
       "      <td>1.0</td>\n",
       "    </tr>\n",
       "    <tr>\n",
       "      <th>2301428</th>\n",
       "      <td>0</td>\n",
       "      <td>260931</td>\n",
       "      <td>NaN</td>\n",
       "      <td>1858</td>\n",
       "      <td>5</td>\n",
       "      <td>7434</td>\n",
       "      <td>1</td>\n",
       "      <td>1.0</td>\n",
       "    </tr>\n",
       "  </tbody>\n",
       "</table>\n",
       "</div>"
      ],
      "text/plain": [
       "         label  clickTime  conversionTime  creativeID  userID  positionID  \\\n",
       "3608772      0     301730             NaN        4565       1        1803   \n",
       "2362282      0     261335             NaN        4121       2        1842   \n",
       "415865       0     181549             NaN         274       4        3322   \n",
       "2139782      0     251726             NaN        3362       5        7434   \n",
       "2301428      0     260931             NaN        1858       5        7434   \n",
       "\n",
       "         connectionType  telecomsOperator  \n",
       "3608772               2               1.0  \n",
       "2362282               1               2.0  \n",
       "415865                1               2.0  \n",
       "2139782               1               1.0  \n",
       "2301428               1               1.0  "
      ]
     },
     "execution_count": 3,
     "metadata": {},
     "output_type": "execute_result"
    }
   ],
   "source": [
    "train_df = pd.read_hdf(path_intermediate_dataset + 'train.h5')\n",
    "train_df.head()"
   ]
  },
  {
   "cell_type": "markdown",
   "metadata": {},
   "source": [
    "### 从`clickTime`中提取`hour`特征"
   ]
  },
  {
   "cell_type": "code",
   "execution_count": 4,
   "metadata": {
    "collapsed": false
   },
   "outputs": [
    {
     "data": {
      "text/html": [
       "<div>\n",
       "<table border=\"1\" class=\"dataframe\">\n",
       "  <thead>\n",
       "    <tr style=\"text-align: right;\">\n",
       "      <th></th>\n",
       "      <th>label</th>\n",
       "      <th>clickTime</th>\n",
       "      <th>conversionTime</th>\n",
       "      <th>creativeID</th>\n",
       "      <th>userID</th>\n",
       "      <th>positionID</th>\n",
       "      <th>connectionType</th>\n",
       "      <th>telecomsOperator</th>\n",
       "      <th>hour</th>\n",
       "    </tr>\n",
       "  </thead>\n",
       "  <tbody>\n",
       "    <tr>\n",
       "      <th>3608772</th>\n",
       "      <td>0</td>\n",
       "      <td>301730</td>\n",
       "      <td>NaN</td>\n",
       "      <td>4565</td>\n",
       "      <td>1</td>\n",
       "      <td>1803</td>\n",
       "      <td>2</td>\n",
       "      <td>1.0</td>\n",
       "      <td>17</td>\n",
       "    </tr>\n",
       "    <tr>\n",
       "      <th>2362282</th>\n",
       "      <td>0</td>\n",
       "      <td>261335</td>\n",
       "      <td>NaN</td>\n",
       "      <td>4121</td>\n",
       "      <td>2</td>\n",
       "      <td>1842</td>\n",
       "      <td>1</td>\n",
       "      <td>2.0</td>\n",
       "      <td>13</td>\n",
       "    </tr>\n",
       "    <tr>\n",
       "      <th>415865</th>\n",
       "      <td>0</td>\n",
       "      <td>181549</td>\n",
       "      <td>NaN</td>\n",
       "      <td>274</td>\n",
       "      <td>4</td>\n",
       "      <td>3322</td>\n",
       "      <td>1</td>\n",
       "      <td>2.0</td>\n",
       "      <td>15</td>\n",
       "    </tr>\n",
       "    <tr>\n",
       "      <th>2139782</th>\n",
       "      <td>0</td>\n",
       "      <td>251726</td>\n",
       "      <td>NaN</td>\n",
       "      <td>3362</td>\n",
       "      <td>5</td>\n",
       "      <td>7434</td>\n",
       "      <td>1</td>\n",
       "      <td>1.0</td>\n",
       "      <td>17</td>\n",
       "    </tr>\n",
       "    <tr>\n",
       "      <th>2301428</th>\n",
       "      <td>0</td>\n",
       "      <td>260931</td>\n",
       "      <td>NaN</td>\n",
       "      <td>1858</td>\n",
       "      <td>5</td>\n",
       "      <td>7434</td>\n",
       "      <td>1</td>\n",
       "      <td>1.0</td>\n",
       "      <td>9</td>\n",
       "    </tr>\n",
       "  </tbody>\n",
       "</table>\n",
       "</div>"
      ],
      "text/plain": [
       "         label  clickTime  conversionTime  creativeID  userID  positionID  \\\n",
       "3608772      0     301730             NaN        4565       1        1803   \n",
       "2362282      0     261335             NaN        4121       2        1842   \n",
       "415865       0     181549             NaN         274       4        3322   \n",
       "2139782      0     251726             NaN        3362       5        7434   \n",
       "2301428      0     260931             NaN        1858       5        7434   \n",
       "\n",
       "         connectionType  telecomsOperator  hour  \n",
       "3608772               2               1.0    17  \n",
       "2362282               1               2.0    13  \n",
       "415865                1               2.0    15  \n",
       "2139782               1               1.0    17  \n",
       "2301428               1               1.0     9  "
      ]
     },
     "execution_count": 4,
     "metadata": {},
     "output_type": "execute_result"
    }
   ],
   "source": [
    "train_df['hour'] = (train_df['clickTime'] / 100 % 100).astype(int)\n",
    "train_df.head()"
   ]
  },
  {
   "cell_type": "markdown",
   "metadata": {},
   "source": [
    "### 提取`hour`的`weight`特征"
   ]
  },
  {
   "cell_type": "code",
   "execution_count": 5,
   "metadata": {
    "collapsed": false
   },
   "outputs": [
    {
     "data": {
      "image/png": "[encoded data removed]",
      "text/plain": [
       "<matplotlib.figure.Figure at 0x7f32b4ec4d68>"
      ]
     },
     "metadata": {},
     "output_type": "display_data"
    }
   ],
   "source": [
    "hour_count_positive = train_df.loc[train_df['label'] == 1, 'hour'].value_counts()\n",
    "hour_count_positive.sort_index(inplace=True)\n",
    "hour_count_positive.plot(figsize=(16,4), style='*')\n",
    "plt.xlim([-0.5,23.5])\n",
    "plt.show()"
   ]
  },
  {
   "cell_type": "code",
   "execution_count": 6,
   "metadata": {
    "collapsed": false
   },
   "outputs": [
    {
     "data": {
      "text/html": [
       "<div>\n",
       "<table border=\"1\" class=\"dataframe\">\n",
       "  <thead>\n",
       "    <tr style=\"text-align: right;\">\n",
       "      <th></th>\n",
       "      <th>hour</th>\n",
       "      <th>hour_weight</th>\n",
       "    </tr>\n",
       "  </thead>\n",
       "  <tbody>\n",
       "    <tr>\n",
       "      <th>0</th>\n",
       "      <td>0</td>\n",
       "      <td>2422</td>\n",
       "    </tr>\n",
       "    <tr>\n",
       "      <th>1</th>\n",
       "      <td>1</td>\n",
       "      <td>1685</td>\n",
       "    </tr>\n",
       "    <tr>\n",
       "      <th>2</th>\n",
       "      <td>2</td>\n",
       "      <td>1178</td>\n",
       "    </tr>\n",
       "    <tr>\n",
       "      <th>3</th>\n",
       "      <td>3</td>\n",
       "      <td>815</td>\n",
       "    </tr>\n",
       "    <tr>\n",
       "      <th>4</th>\n",
       "      <td>4</td>\n",
       "      <td>803</td>\n",
       "    </tr>\n",
       "  </tbody>\n",
       "</table>\n",
       "</div>"
      ],
      "text/plain": [
       "   hour  hour_weight\n",
       "0     0         2422\n",
       "1     1         1685\n",
       "2     2         1178\n",
       "3     3          815\n",
       "4     4          803"
      ]
     },
     "execution_count": 6,
     "metadata": {},
     "output_type": "execute_result"
    }
   ],
   "source": [
    "hour_count_positive_df = DataFrame(hour_count_positive)\n",
    "hour_count_positive_df.reset_index(inplace=True)\n",
    "hour_count_positive_df.columns = ['hour', 'hour_weight']\n",
    "hour_count_positive_df.head()"
   ]
  },
  {
   "cell_type": "markdown",
   "metadata": {},
   "source": [
    "### 提取`hour`的`conversion_ratio`特征"
   ]
  },
  {
   "cell_type": "code",
   "execution_count": 7,
   "metadata": {
    "collapsed": false
   },
   "outputs": [
    {
     "data": {
      "image/png": "[encoded data removed]",
      "text/plain": [
       "<matplotlib.figure.Figure at 0x7f32a4a1b320>"
      ]
     },
     "metadata": {},
     "output_type": "display_data"
    }
   ],
   "source": [
    "hour_count = train_df['hour'].value_counts()\n",
    "hour_count.sort_index(inplace=True)\n",
    "hour_count.plot(figsize=(16,4), style='*')\n",
    "plt.xlim([-0.5,23.5])\n",
    "plt.show()"
   ]
  },
  {
   "cell_type": "code",
   "execution_count": 8,
   "metadata": {
    "collapsed": false
   },
   "outputs": [
    {
     "data": {
      "text/html": [
       "<div>\n",
       "<table border=\"1\" class=\"dataframe\">\n",
       "  <thead>\n",
       "    <tr style=\"text-align: right;\">\n",
       "      <th></th>\n",
       "      <th>hour</th>\n",
       "      <th>hour_weight</th>\n",
       "    </tr>\n",
       "  </thead>\n",
       "  <tbody>\n",
       "    <tr>\n",
       "      <th>0</th>\n",
       "      <td>0</td>\n",
       "      <td>100890</td>\n",
       "    </tr>\n",
       "    <tr>\n",
       "      <th>1</th>\n",
       "      <td>1</td>\n",
       "      <td>66172</td>\n",
       "    </tr>\n",
       "    <tr>\n",
       "      <th>2</th>\n",
       "      <td>2</td>\n",
       "      <td>44393</td>\n",
       "    </tr>\n",
       "    <tr>\n",
       "      <th>3</th>\n",
       "      <td>3</td>\n",
       "      <td>32883</td>\n",
       "    </tr>\n",
       "    <tr>\n",
       "      <th>4</th>\n",
       "      <td>4</td>\n",
       "      <td>33002</td>\n",
       "    </tr>\n",
       "  </tbody>\n",
       "</table>\n",
       "</div>"
      ],
      "text/plain": [
       "   hour  hour_weight\n",
       "0     0       100890\n",
       "1     1        66172\n",
       "2     2        44393\n",
       "3     3        32883\n",
       "4     4        33002"
      ]
     },
     "execution_count": 8,
     "metadata": {},
     "output_type": "execute_result"
    }
   ],
   "source": [
    "hour_count_df = DataFrame(hour_count)\n",
    "hour_count_df.reset_index(inplace=True)\n",
    "hour_count_df.columns = ['hour', 'hour_weight']\n",
    "hour_count_df.head()"
   ]
  },
  {
   "cell_type": "code",
   "execution_count": 9,
   "metadata": {
    "collapsed": false
   },
   "outputs": [
    {
     "data": {
      "text/html": [
       "<div>\n",
       "<table border=\"1\" class=\"dataframe\">\n",
       "  <thead>\n",
       "    <tr style=\"text-align: right;\">\n",
       "      <th></th>\n",
       "      <th>hour</th>\n",
       "      <th>hour_weight</th>\n",
       "      <th>hour_conversion_ratio</th>\n",
       "    </tr>\n",
       "  </thead>\n",
       "  <tbody>\n",
       "    <tr>\n",
       "      <th>0</th>\n",
       "      <td>0</td>\n",
       "      <td>2422</td>\n",
       "      <td>0.024006</td>\n",
       "    </tr>\n",
       "    <tr>\n",
       "      <th>1</th>\n",
       "      <td>1</td>\n",
       "      <td>1685</td>\n",
       "      <td>0.025464</td>\n",
       "    </tr>\n",
       "    <tr>\n",
       "      <th>2</th>\n",
       "      <td>2</td>\n",
       "      <td>1178</td>\n",
       "      <td>0.026536</td>\n",
       "    </tr>\n",
       "    <tr>\n",
       "      <th>3</th>\n",
       "      <td>3</td>\n",
       "      <td>815</td>\n",
       "      <td>0.024785</td>\n",
       "    </tr>\n",
       "    <tr>\n",
       "      <th>4</th>\n",
       "      <td>4</td>\n",
       "      <td>803</td>\n",
       "      <td>0.024332</td>\n",
       "    </tr>\n",
       "  </tbody>\n",
       "</table>\n",
       "</div>"
      ],
      "text/plain": [
       "   hour  hour_weight  hour_conversion_ratio\n",
       "0     0         2422               0.024006\n",
       "1     1         1685               0.025464\n",
       "2     2         1178               0.026536\n",
       "3     3          815               0.024785\n",
       "4     4          803               0.024332"
      ]
     },
     "execution_count": 9,
     "metadata": {},
     "output_type": "execute_result"
    }
   ],
   "source": [
    "hour_count_positive_df['hour_conversion_ratio'] = hour_count_positive_df['hour_weight'] / hour_count_df['hour_weight']\n",
    "hour_count_positive_df.head()"
   ]
  },
  {
   "cell_type": "code",
   "execution_count": 10,
   "metadata": {
    "collapsed": false
   },
   "outputs": [
    {
     "data": {
      "text/html": [
       "<div>\n",
       "<table border=\"1\" class=\"dataframe\">\n",
       "  <thead>\n",
       "    <tr style=\"text-align: right;\">\n",
       "      <th></th>\n",
       "      <th>hour</th>\n",
       "      <th>hour_weight</th>\n",
       "      <th>hour_conversion_ratio</th>\n",
       "    </tr>\n",
       "  </thead>\n",
       "  <tbody>\n",
       "    <tr>\n",
       "      <th>0</th>\n",
       "      <td>0</td>\n",
       "      <td>2422</td>\n",
       "      <td>0.269051</td>\n",
       "    </tr>\n",
       "    <tr>\n",
       "      <th>1</th>\n",
       "      <td>1</td>\n",
       "      <td>1685</td>\n",
       "      <td>0.392709</td>\n",
       "    </tr>\n",
       "    <tr>\n",
       "      <th>2</th>\n",
       "      <td>2</td>\n",
       "      <td>1178</td>\n",
       "      <td>0.483635</td>\n",
       "    </tr>\n",
       "    <tr>\n",
       "      <th>3</th>\n",
       "      <td>3</td>\n",
       "      <td>815</td>\n",
       "      <td>0.335097</td>\n",
       "    </tr>\n",
       "    <tr>\n",
       "      <th>4</th>\n",
       "      <td>4</td>\n",
       "      <td>803</td>\n",
       "      <td>0.296667</td>\n",
       "    </tr>\n",
       "  </tbody>\n",
       "</table>\n",
       "</div>"
      ],
      "text/plain": [
       "   hour  hour_weight  hour_conversion_ratio\n",
       "0     0         2422               0.269051\n",
       "1     1         1685               0.392709\n",
       "2     2         1178               0.483635\n",
       "3     3          815               0.335097\n",
       "4     4          803               0.296667"
      ]
     },
     "execution_count": 10,
     "metadata": {},
     "output_type": "execute_result"
    }
   ],
   "source": [
    "# hour_conversion_ratio 归一化\n",
    "mx = hour_count_positive_df['hour_conversion_ratio'].max()\n",
    "mn = hour_count_positive_df['hour_conversion_ratio'].min()\n",
    "hour_count_positive_df['hour_conversion_ratio'] = (hour_count_positive_df['hour_conversion_ratio'] - mn) / (mx - mn)\n",
    "hour_count_positive_df.head()"
   ]
  },
  {
   "cell_type": "code",
   "execution_count": 11,
   "metadata": {
    "collapsed": false
   },
   "outputs": [
    {
     "data": {
      "image/png": "[encoded data removed]",
      "text/plain": [
       "<matplotlib.figure.Figure at 0x7f32a49a2e80>"
      ]
     },
     "metadata": {},
     "output_type": "display_data"
    }
   ],
   "source": [
    "hour_count_positive_df['hour_conversion_ratio'].plot(figsize=(16,4), style='*')\n",
    "plt.xlim([-0.5,23.5])\n",
    "plt.show()"
   ]
  },
  {
   "cell_type": "markdown",
   "metadata": {},
   "source": [
    "### 存储"
   ]
  },
  {
   "cell_type": "code",
   "execution_count": null,
   "metadata": {
    "collapsed": true
   },
   "outputs": [],
   "source": [
    "# hour_count_positive_df…………"
   ]
  },
  {
   "cell_type": "code",
   "execution_count": null,
   "metadata": {
    "collapsed": true
   },
   "outputs": [],
   "source": []
  }
 ],
 "metadata": {
  "kernelspec": {
   "display_name": "Python 3",
   "language": "python",
   "name": "python3"
  },
  "language_info": {
   "codemirror_mode": {
    "name": "ipython",
    "version": 3
   },
   "file_extension": ".py",
   "mimetype": "text/x-python",
   "name": "python",
   "nbconvert_exporter": "python",
   "pygments_lexer": "ipython3",
   "version": "3.6.0"
  }
 },
 "nbformat": 4,
 "nbformat_minor": 2
}
