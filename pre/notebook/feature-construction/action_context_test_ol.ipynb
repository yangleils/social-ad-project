{
 "cells": [
  {
   "cell_type": "code",
   "execution_count": 1,
   "metadata": {
    "collapsed": true
   },
   "outputs": [],
   "source": [
    "import pandas as pd\n",
    "from pandas import DataFrame\n",
    "from pandas import Series\n",
    "\n",
    "import numpy as np\n",
    "import matplotlib.pyplot as plt"
   ]
  },
  {
   "cell_type": "markdown",
   "metadata": {},
   "source": [
    "### 设置路径"
   ]
  },
  {
   "cell_type": "code",
   "execution_count": 2,
   "metadata": {
    "collapsed": true
   },
   "outputs": [],
   "source": [
    "path_pre = '../../'\n",
    "path_original_dataset = path_pre + 'original-dataset/'\n",
    "path_intermediate_dataset = path_pre + 'intermediate-dataset/'"
   ]
  },
  {
   "cell_type": "markdown",
   "metadata": {},
   "source": [
    "### 加载 test.csv"
   ]
  },
  {
   "cell_type": "code",
   "execution_count": 3,
   "metadata": {
    "collapsed": false
   },
   "outputs": [
    {
     "data": {
      "text/html": [
       "<div>\n",
       "<table border=\"1\" class=\"dataframe\">\n",
       "  <thead>\n",
       "    <tr style=\"text-align: right;\">\n",
       "      <th></th>\n",
       "      <th>instanceID</th>\n",
       "      <th>label</th>\n",
       "      <th>clickTime</th>\n",
       "      <th>creativeID</th>\n",
       "      <th>userID</th>\n",
       "      <th>positionID</th>\n",
       "      <th>connectionType</th>\n",
       "      <th>telecomsOperator</th>\n",
       "    </tr>\n",
       "  </thead>\n",
       "  <tbody>\n",
       "    <tr>\n",
       "      <th>0</th>\n",
       "      <td>1</td>\n",
       "      <td>-1</td>\n",
       "      <td>310000</td>\n",
       "      <td>3745</td>\n",
       "      <td>1164848</td>\n",
       "      <td>3451</td>\n",
       "      <td>1</td>\n",
       "      <td>3</td>\n",
       "    </tr>\n",
       "    <tr>\n",
       "      <th>1</th>\n",
       "      <td>2</td>\n",
       "      <td>-1</td>\n",
       "      <td>310000</td>\n",
       "      <td>2284</td>\n",
       "      <td>2127247</td>\n",
       "      <td>1613</td>\n",
       "      <td>1</td>\n",
       "      <td>3</td>\n",
       "    </tr>\n",
       "    <tr>\n",
       "      <th>2</th>\n",
       "      <td>3</td>\n",
       "      <td>-1</td>\n",
       "      <td>310000</td>\n",
       "      <td>1456</td>\n",
       "      <td>2769125</td>\n",
       "      <td>5510</td>\n",
       "      <td>2</td>\n",
       "      <td>1</td>\n",
       "    </tr>\n",
       "    <tr>\n",
       "      <th>3</th>\n",
       "      <td>4</td>\n",
       "      <td>-1</td>\n",
       "      <td>310000</td>\n",
       "      <td>4565</td>\n",
       "      <td>9762</td>\n",
       "      <td>4113</td>\n",
       "      <td>2</td>\n",
       "      <td>3</td>\n",
       "    </tr>\n",
       "    <tr>\n",
       "      <th>4</th>\n",
       "      <td>5</td>\n",
       "      <td>-1</td>\n",
       "      <td>310000</td>\n",
       "      <td>49</td>\n",
       "      <td>2513636</td>\n",
       "      <td>3615</td>\n",
       "      <td>1</td>\n",
       "      <td>3</td>\n",
       "    </tr>\n",
       "  </tbody>\n",
       "</table>\n",
       "</div>"
      ],
      "text/plain": [
       "   instanceID  label  clickTime  creativeID   userID  positionID  \\\n",
       "0           1     -1     310000        3745  1164848        3451   \n",
       "1           2     -1     310000        2284  2127247        1613   \n",
       "2           3     -1     310000        1456  2769125        5510   \n",
       "3           4     -1     310000        4565     9762        4113   \n",
       "4           5     -1     310000          49  2513636        3615   \n",
       "\n",
       "   connectionType  telecomsOperator  \n",
       "0               1                 3  \n",
       "1               1                 3  \n",
       "2               2                 1  \n",
       "3               2                 3  \n",
       "4               1                 3  "
      ]
     },
     "execution_count": 3,
     "metadata": {},
     "output_type": "execute_result"
    }
   ],
   "source": [
    "test_ol_df = pd.read_csv(path_original_dataset + 'test.csv')\n",
    "test_ol_df.head()"
   ]
  },
  {
   "cell_type": "markdown",
   "metadata": {},
   "source": [
    "### 加载 position.csv"
   ]
  },
  {
   "cell_type": "code",
   "execution_count": 4,
   "metadata": {
    "collapsed": false
   },
   "outputs": [
    {
     "data": {
      "text/html": [
       "<div>\n",
       "<table border=\"1\" class=\"dataframe\">\n",
       "  <thead>\n",
       "    <tr style=\"text-align: right;\">\n",
       "      <th></th>\n",
       "      <th>positionID</th>\n",
       "      <th>sitesetID</th>\n",
       "      <th>positionType</th>\n",
       "    </tr>\n",
       "  </thead>\n",
       "  <tbody>\n",
       "    <tr>\n",
       "      <th>0</th>\n",
       "      <td>2150</td>\n",
       "      <td>1</td>\n",
       "      <td>0</td>\n",
       "    </tr>\n",
       "    <tr>\n",
       "      <th>1</th>\n",
       "      <td>2579</td>\n",
       "      <td>1</td>\n",
       "      <td>0</td>\n",
       "    </tr>\n",
       "    <tr>\n",
       "      <th>2</th>\n",
       "      <td>3322</td>\n",
       "      <td>1</td>\n",
       "      <td>0</td>\n",
       "    </tr>\n",
       "    <tr>\n",
       "      <th>3</th>\n",
       "      <td>5726</td>\n",
       "      <td>1</td>\n",
       "      <td>0</td>\n",
       "    </tr>\n",
       "    <tr>\n",
       "      <th>4</th>\n",
       "      <td>4522</td>\n",
       "      <td>2</td>\n",
       "      <td>0</td>\n",
       "    </tr>\n",
       "  </tbody>\n",
       "</table>\n",
       "</div>"
      ],
      "text/plain": [
       "   positionID  sitesetID  positionType\n",
       "0        2150          1             0\n",
       "1        2579          1             0\n",
       "2        3322          1             0\n",
       "3        5726          1             0\n",
       "4        4522          2             0"
      ]
     },
     "execution_count": 4,
     "metadata": {},
     "output_type": "execute_result"
    }
   ],
   "source": [
    "position_df = pd.read_csv(path_original_dataset + 'position.csv')\n",
    "position_df.head()"
   ]
  },
  {
   "cell_type": "markdown",
   "metadata": {},
   "source": [
    "### 合并表格"
   ]
  },
  {
   "cell_type": "code",
   "execution_count": 5,
   "metadata": {
    "collapsed": false
   },
   "outputs": [
    {
     "data": {
      "text/html": [
       "<div>\n",
       "<table border=\"1\" class=\"dataframe\">\n",
       "  <thead>\n",
       "    <tr style=\"text-align: right;\">\n",
       "      <th></th>\n",
       "      <th>instanceID</th>\n",
       "      <th>label</th>\n",
       "      <th>clickTime</th>\n",
       "      <th>creativeID</th>\n",
       "      <th>userID</th>\n",
       "      <th>positionID</th>\n",
       "      <th>connectionType</th>\n",
       "      <th>telecomsOperator</th>\n",
       "      <th>sitesetID</th>\n",
       "      <th>positionType</th>\n",
       "    </tr>\n",
       "  </thead>\n",
       "  <tbody>\n",
       "    <tr>\n",
       "      <th>0</th>\n",
       "      <td>1</td>\n",
       "      <td>-1</td>\n",
       "      <td>310000</td>\n",
       "      <td>3745</td>\n",
       "      <td>1164848</td>\n",
       "      <td>3451</td>\n",
       "      <td>1</td>\n",
       "      <td>3</td>\n",
       "      <td>0</td>\n",
       "      <td>1</td>\n",
       "    </tr>\n",
       "    <tr>\n",
       "      <th>1</th>\n",
       "      <td>178</td>\n",
       "      <td>-1</td>\n",
       "      <td>310001</td>\n",
       "      <td>3745</td>\n",
       "      <td>2170066</td>\n",
       "      <td>3451</td>\n",
       "      <td>1</td>\n",
       "      <td>2</td>\n",
       "      <td>0</td>\n",
       "      <td>1</td>\n",
       "    </tr>\n",
       "    <tr>\n",
       "      <th>2</th>\n",
       "      <td>284</td>\n",
       "      <td>-1</td>\n",
       "      <td>310001</td>\n",
       "      <td>2284</td>\n",
       "      <td>736708</td>\n",
       "      <td>3451</td>\n",
       "      <td>1</td>\n",
       "      <td>1</td>\n",
       "      <td>0</td>\n",
       "      <td>1</td>\n",
       "    </tr>\n",
       "    <tr>\n",
       "      <th>3</th>\n",
       "      <td>3478</td>\n",
       "      <td>-1</td>\n",
       "      <td>310025</td>\n",
       "      <td>6490</td>\n",
       "      <td>1621409</td>\n",
       "      <td>3451</td>\n",
       "      <td>1</td>\n",
       "      <td>0</td>\n",
       "      <td>0</td>\n",
       "      <td>1</td>\n",
       "    </tr>\n",
       "    <tr>\n",
       "      <th>4</th>\n",
       "      <td>3810</td>\n",
       "      <td>-1</td>\n",
       "      <td>310027</td>\n",
       "      <td>2572</td>\n",
       "      <td>647667</td>\n",
       "      <td>3451</td>\n",
       "      <td>1</td>\n",
       "      <td>2</td>\n",
       "      <td>0</td>\n",
       "      <td>1</td>\n",
       "    </tr>\n",
       "  </tbody>\n",
       "</table>\n",
       "</div>"
      ],
      "text/plain": [
       "   instanceID  label  clickTime  creativeID   userID  positionID  \\\n",
       "0           1     -1     310000        3745  1164848        3451   \n",
       "1         178     -1     310001        3745  2170066        3451   \n",
       "2         284     -1     310001        2284   736708        3451   \n",
       "3        3478     -1     310025        6490  1621409        3451   \n",
       "4        3810     -1     310027        2572   647667        3451   \n",
       "\n",
       "   connectionType  telecomsOperator  sitesetID  positionType  \n",
       "0               1                 3          0             1  \n",
       "1               1                 2          0             1  \n",
       "2               1                 1          0             1  \n",
       "3               1                 0          0             1  \n",
       "4               1                 2          0             1  "
      ]
     },
     "execution_count": 5,
     "metadata": {},
     "output_type": "execute_result"
    }
   ],
   "source": [
    "test_ol_df = test_ol_df.merge(position_df, on='positionID')\n",
    "test_ol_df.head()"
   ]
  },
  {
   "cell_type": "markdown",
   "metadata": {},
   "source": [
    "### 调整 columns 顺序"
   ]
  },
  {
   "cell_type": "code",
   "execution_count": 6,
   "metadata": {
    "collapsed": false
   },
   "outputs": [
    {
     "name": "stdout",
     "output_type": "stream",
     "text": [
      "['instanceID', 'label', 'clickTime', 'creativeID', 'userID', 'positionID', 'connectionType', 'telecomsOperator', 'sitesetID', 'positionType']\n"
     ]
    }
   ],
   "source": [
    "print(test_ol_df.columns.tolist())"
   ]
  },
  {
   "cell_type": "code",
   "execution_count": 7,
   "metadata": {
    "collapsed": false
   },
   "outputs": [
    {
     "data": {
      "text/html": [
       "<div>\n",
       "<table border=\"1\" class=\"dataframe\">\n",
       "  <thead>\n",
       "    <tr style=\"text-align: right;\">\n",
       "      <th></th>\n",
       "      <th>instanceID</th>\n",
       "      <th>label</th>\n",
       "      <th>clickTime</th>\n",
       "      <th>creativeID</th>\n",
       "      <th>userID</th>\n",
       "      <th>positionID</th>\n",
       "      <th>sitesetID</th>\n",
       "      <th>positionType</th>\n",
       "      <th>connectionType</th>\n",
       "      <th>telecomsOperator</th>\n",
       "    </tr>\n",
       "  </thead>\n",
       "  <tbody>\n",
       "    <tr>\n",
       "      <th>0</th>\n",
       "      <td>1</td>\n",
       "      <td>-1</td>\n",
       "      <td>310000</td>\n",
       "      <td>3745</td>\n",
       "      <td>1164848</td>\n",
       "      <td>3451</td>\n",
       "      <td>0</td>\n",
       "      <td>1</td>\n",
       "      <td>1</td>\n",
       "      <td>3</td>\n",
       "    </tr>\n",
       "    <tr>\n",
       "      <th>1</th>\n",
       "      <td>178</td>\n",
       "      <td>-1</td>\n",
       "      <td>310001</td>\n",
       "      <td>3745</td>\n",
       "      <td>2170066</td>\n",
       "      <td>3451</td>\n",
       "      <td>0</td>\n",
       "      <td>1</td>\n",
       "      <td>1</td>\n",
       "      <td>2</td>\n",
       "    </tr>\n",
       "    <tr>\n",
       "      <th>2</th>\n",
       "      <td>284</td>\n",
       "      <td>-1</td>\n",
       "      <td>310001</td>\n",
       "      <td>2284</td>\n",
       "      <td>736708</td>\n",
       "      <td>3451</td>\n",
       "      <td>0</td>\n",
       "      <td>1</td>\n",
       "      <td>1</td>\n",
       "      <td>1</td>\n",
       "    </tr>\n",
       "    <tr>\n",
       "      <th>3</th>\n",
       "      <td>3478</td>\n",
       "      <td>-1</td>\n",
       "      <td>310025</td>\n",
       "      <td>6490</td>\n",
       "      <td>1621409</td>\n",
       "      <td>3451</td>\n",
       "      <td>0</td>\n",
       "      <td>1</td>\n",
       "      <td>1</td>\n",
       "      <td>0</td>\n",
       "    </tr>\n",
       "    <tr>\n",
       "      <th>4</th>\n",
       "      <td>3810</td>\n",
       "      <td>-1</td>\n",
       "      <td>310027</td>\n",
       "      <td>2572</td>\n",
       "      <td>647667</td>\n",
       "      <td>3451</td>\n",
       "      <td>0</td>\n",
       "      <td>1</td>\n",
       "      <td>1</td>\n",
       "      <td>2</td>\n",
       "    </tr>\n",
       "  </tbody>\n",
       "</table>\n",
       "</div>"
      ],
      "text/plain": [
       "   instanceID  label  clickTime  creativeID   userID  positionID  sitesetID  \\\n",
       "0           1     -1     310000        3745  1164848        3451          0   \n",
       "1         178     -1     310001        3745  2170066        3451          0   \n",
       "2         284     -1     310001        2284   736708        3451          0   \n",
       "3        3478     -1     310025        6490  1621409        3451          0   \n",
       "4        3810     -1     310027        2572   647667        3451          0   \n",
       "\n",
       "   positionType  connectionType  telecomsOperator  \n",
       "0             1               1                 3  \n",
       "1             1               1                 2  \n",
       "2             1               1                 1  \n",
       "3             1               1                 0  \n",
       "4             1               1                 2  "
      ]
     },
     "execution_count": 7,
     "metadata": {},
     "output_type": "execute_result"
    }
   ],
   "source": [
    "columns = ['instanceID', 'label', 'clickTime', 'creativeID', 'userID', 'positionID',\\\n",
    "           'sitesetID', 'positionType', 'connectionType', 'telecomsOperator']\n",
    "test_ol_df = test_ol_df[columns]\n",
    "test_ol_df.head()"
   ]
  },
  {
   "cell_type": "code",
   "execution_count": 8,
   "metadata": {
    "collapsed": false
   },
   "outputs": [
    {
     "data": {
      "text/html": [
       "<div>\n",
       "<table border=\"1\" class=\"dataframe\">\n",
       "  <thead>\n",
       "    <tr style=\"text-align: right;\">\n",
       "      <th></th>\n",
       "      <th>instanceID</th>\n",
       "      <th>label</th>\n",
       "      <th>clickTime</th>\n",
       "      <th>creativeID</th>\n",
       "      <th>userID</th>\n",
       "      <th>positionID</th>\n",
       "      <th>sitesetID</th>\n",
       "      <th>positionType</th>\n",
       "      <th>connectionType</th>\n",
       "      <th>telecomsOperator</th>\n",
       "    </tr>\n",
       "  </thead>\n",
       "  <tbody>\n",
       "    <tr>\n",
       "      <th>338484</th>\n",
       "      <td>337648</td>\n",
       "      <td>-1</td>\n",
       "      <td>312355</td>\n",
       "      <td>3160</td>\n",
       "      <td>1837415</td>\n",
       "      <td>5587</td>\n",
       "      <td>0</td>\n",
       "      <td>2</td>\n",
       "      <td>1</td>\n",
       "      <td>2</td>\n",
       "    </tr>\n",
       "    <tr>\n",
       "      <th>338485</th>\n",
       "      <td>337718</td>\n",
       "      <td>-1</td>\n",
       "      <td>312356</td>\n",
       "      <td>3320</td>\n",
       "      <td>1942251</td>\n",
       "      <td>4862</td>\n",
       "      <td>0</td>\n",
       "      <td>2</td>\n",
       "      <td>1</td>\n",
       "      <td>1</td>\n",
       "    </tr>\n",
       "    <tr>\n",
       "      <th>338486</th>\n",
       "      <td>337806</td>\n",
       "      <td>-1</td>\n",
       "      <td>312356</td>\n",
       "      <td>1456</td>\n",
       "      <td>360193</td>\n",
       "      <td>5903</td>\n",
       "      <td>0</td>\n",
       "      <td>1</td>\n",
       "      <td>1</td>\n",
       "      <td>3</td>\n",
       "    </tr>\n",
       "    <tr>\n",
       "      <th>338487</th>\n",
       "      <td>338050</td>\n",
       "      <td>-1</td>\n",
       "      <td>312357</td>\n",
       "      <td>5258</td>\n",
       "      <td>2259605</td>\n",
       "      <td>5324</td>\n",
       "      <td>0</td>\n",
       "      <td>1</td>\n",
       "      <td>1</td>\n",
       "      <td>1</td>\n",
       "    </tr>\n",
       "    <tr>\n",
       "      <th>338488</th>\n",
       "      <td>338102</td>\n",
       "      <td>-1</td>\n",
       "      <td>312358</td>\n",
       "      <td>1704</td>\n",
       "      <td>2033860</td>\n",
       "      <td>2028</td>\n",
       "      <td>0</td>\n",
       "      <td>2</td>\n",
       "      <td>1</td>\n",
       "      <td>1</td>\n",
       "    </tr>\n",
       "  </tbody>\n",
       "</table>\n",
       "</div>"
      ],
      "text/plain": [
       "        instanceID  label  clickTime  creativeID   userID  positionID  \\\n",
       "338484      337648     -1     312355        3160  1837415        5587   \n",
       "338485      337718     -1     312356        3320  1942251        4862   \n",
       "338486      337806     -1     312356        1456   360193        5903   \n",
       "338487      338050     -1     312357        5258  2259605        5324   \n",
       "338488      338102     -1     312358        1704  2033860        2028   \n",
       "\n",
       "        sitesetID  positionType  connectionType  telecomsOperator  \n",
       "338484          0             2               1                 2  \n",
       "338485          0             2               1                 1  \n",
       "338486          0             1               1                 3  \n",
       "338487          0             1               1                 1  \n",
       "338488          0             2               1                 1  "
      ]
     },
     "execution_count": 8,
     "metadata": {},
     "output_type": "execute_result"
    }
   ],
   "source": [
    "test_ol_df.tail()"
   ]
  },
  {
   "cell_type": "markdown",
   "metadata": {},
   "source": [
    "### 从 clickTime 中提取 hour 特征"
   ]
  },
  {
   "cell_type": "code",
   "execution_count": 9,
   "metadata": {
    "collapsed": false
   },
   "outputs": [
    {
     "data": {
      "text/html": [
       "<div>\n",
       "<table border=\"1\" class=\"dataframe\">\n",
       "  <thead>\n",
       "    <tr style=\"text-align: right;\">\n",
       "      <th></th>\n",
       "      <th>instanceID</th>\n",
       "      <th>label</th>\n",
       "      <th>clickTime</th>\n",
       "      <th>creativeID</th>\n",
       "      <th>userID</th>\n",
       "      <th>positionID</th>\n",
       "      <th>sitesetID</th>\n",
       "      <th>positionType</th>\n",
       "      <th>connectionType</th>\n",
       "      <th>telecomsOperator</th>\n",
       "      <th>hour</th>\n",
       "    </tr>\n",
       "  </thead>\n",
       "  <tbody>\n",
       "    <tr>\n",
       "      <th>0</th>\n",
       "      <td>1</td>\n",
       "      <td>-1</td>\n",
       "      <td>310000</td>\n",
       "      <td>3745</td>\n",
       "      <td>1164848</td>\n",
       "      <td>3451</td>\n",
       "      <td>0</td>\n",
       "      <td>1</td>\n",
       "      <td>1</td>\n",
       "      <td>3</td>\n",
       "      <td>0</td>\n",
       "    </tr>\n",
       "    <tr>\n",
       "      <th>1</th>\n",
       "      <td>178</td>\n",
       "      <td>-1</td>\n",
       "      <td>310001</td>\n",
       "      <td>3745</td>\n",
       "      <td>2170066</td>\n",
       "      <td>3451</td>\n",
       "      <td>0</td>\n",
       "      <td>1</td>\n",
       "      <td>1</td>\n",
       "      <td>2</td>\n",
       "      <td>0</td>\n",
       "    </tr>\n",
       "    <tr>\n",
       "      <th>2</th>\n",
       "      <td>284</td>\n",
       "      <td>-1</td>\n",
       "      <td>310001</td>\n",
       "      <td>2284</td>\n",
       "      <td>736708</td>\n",
       "      <td>3451</td>\n",
       "      <td>0</td>\n",
       "      <td>1</td>\n",
       "      <td>1</td>\n",
       "      <td>1</td>\n",
       "      <td>0</td>\n",
       "    </tr>\n",
       "    <tr>\n",
       "      <th>3</th>\n",
       "      <td>3478</td>\n",
       "      <td>-1</td>\n",
       "      <td>310025</td>\n",
       "      <td>6490</td>\n",
       "      <td>1621409</td>\n",
       "      <td>3451</td>\n",
       "      <td>0</td>\n",
       "      <td>1</td>\n",
       "      <td>1</td>\n",
       "      <td>0</td>\n",
       "      <td>0</td>\n",
       "    </tr>\n",
       "    <tr>\n",
       "      <th>4</th>\n",
       "      <td>3810</td>\n",
       "      <td>-1</td>\n",
       "      <td>310027</td>\n",
       "      <td>2572</td>\n",
       "      <td>647667</td>\n",
       "      <td>3451</td>\n",
       "      <td>0</td>\n",
       "      <td>1</td>\n",
       "      <td>1</td>\n",
       "      <td>2</td>\n",
       "      <td>0</td>\n",
       "    </tr>\n",
       "  </tbody>\n",
       "</table>\n",
       "</div>"
      ],
      "text/plain": [
       "   instanceID  label  clickTime  creativeID   userID  positionID  sitesetID  \\\n",
       "0           1     -1     310000        3745  1164848        3451          0   \n",
       "1         178     -1     310001        3745  2170066        3451          0   \n",
       "2         284     -1     310001        2284   736708        3451          0   \n",
       "3        3478     -1     310025        6490  1621409        3451          0   \n",
       "4        3810     -1     310027        2572   647667        3451          0   \n",
       "\n",
       "   positionType  connectionType  telecomsOperator  hour  \n",
       "0             1               1                 3     0  \n",
       "1             1               1                 2     0  \n",
       "2             1               1                 1     0  \n",
       "3             1               1                 0     0  \n",
       "4             1               1                 2     0  "
      ]
     },
     "execution_count": 9,
     "metadata": {},
     "output_type": "execute_result"
    }
   ],
   "source": [
    "test_ol_df['hour'] = (test_ol_df['clickTime'] / 100 % 100).astype(int)\n",
    "test_ol_df.head()"
   ]
  },
  {
   "cell_type": "markdown",
   "metadata": {},
   "source": [
    "### 提取出部分特征"
   ]
  },
  {
   "cell_type": "code",
   "execution_count": 10,
   "metadata": {
    "collapsed": false
   },
   "outputs": [
    {
     "name": "stdout",
     "output_type": "stream",
     "text": [
      "['instanceID', 'label', 'clickTime', 'creativeID', 'userID', 'positionID', 'sitesetID', 'positionType', 'connectionType', 'telecomsOperator', 'hour']\n"
     ]
    }
   ],
   "source": [
    "print(test_ol_df.columns.tolist())"
   ]
  },
  {
   "cell_type": "code",
   "execution_count": 11,
   "metadata": {
    "collapsed": true
   },
   "outputs": [],
   "source": [
    "selected_feature = ['instanceID',\\\n",
    "                    'label',\\\n",
    "#                     'clickTime',\\\n",
    "                    'creativeID',\\\n",
    "                    'userID',\\\n",
    "#                     'positionID',\\\n",
    "                    'sitesetID',\\\n",
    "                    'positionType',\\\n",
    "                    'connectionType',\\\n",
    "                    'telecomsOperator',\\\n",
    "                    'hour'\\\n",
    "                   ]"
   ]
  },
  {
   "cell_type": "code",
   "execution_count": 12,
   "metadata": {
    "collapsed": false
   },
   "outputs": [
    {
     "data": {
      "text/html": [
       "<div>\n",
       "<table border=\"1\" class=\"dataframe\">\n",
       "  <thead>\n",
       "    <tr style=\"text-align: right;\">\n",
       "      <th></th>\n",
       "      <th>instanceID</th>\n",
       "      <th>label</th>\n",
       "      <th>creativeID</th>\n",
       "      <th>userID</th>\n",
       "      <th>sitesetID</th>\n",
       "      <th>positionType</th>\n",
       "      <th>connectionType</th>\n",
       "      <th>telecomsOperator</th>\n",
       "      <th>hour</th>\n",
       "    </tr>\n",
       "  </thead>\n",
       "  <tbody>\n",
       "    <tr>\n",
       "      <th>0</th>\n",
       "      <td>1</td>\n",
       "      <td>-1</td>\n",
       "      <td>3745</td>\n",
       "      <td>1164848</td>\n",
       "      <td>0</td>\n",
       "      <td>1</td>\n",
       "      <td>1</td>\n",
       "      <td>3</td>\n",
       "      <td>0</td>\n",
       "    </tr>\n",
       "    <tr>\n",
       "      <th>1</th>\n",
       "      <td>178</td>\n",
       "      <td>-1</td>\n",
       "      <td>3745</td>\n",
       "      <td>2170066</td>\n",
       "      <td>0</td>\n",
       "      <td>1</td>\n",
       "      <td>1</td>\n",
       "      <td>2</td>\n",
       "      <td>0</td>\n",
       "    </tr>\n",
       "    <tr>\n",
       "      <th>2</th>\n",
       "      <td>284</td>\n",
       "      <td>-1</td>\n",
       "      <td>2284</td>\n",
       "      <td>736708</td>\n",
       "      <td>0</td>\n",
       "      <td>1</td>\n",
       "      <td>1</td>\n",
       "      <td>1</td>\n",
       "      <td>0</td>\n",
       "    </tr>\n",
       "    <tr>\n",
       "      <th>3</th>\n",
       "      <td>3478</td>\n",
       "      <td>-1</td>\n",
       "      <td>6490</td>\n",
       "      <td>1621409</td>\n",
       "      <td>0</td>\n",
       "      <td>1</td>\n",
       "      <td>1</td>\n",
       "      <td>0</td>\n",
       "      <td>0</td>\n",
       "    </tr>\n",
       "    <tr>\n",
       "      <th>4</th>\n",
       "      <td>3810</td>\n",
       "      <td>-1</td>\n",
       "      <td>2572</td>\n",
       "      <td>647667</td>\n",
       "      <td>0</td>\n",
       "      <td>1</td>\n",
       "      <td>1</td>\n",
       "      <td>2</td>\n",
       "      <td>0</td>\n",
       "    </tr>\n",
       "  </tbody>\n",
       "</table>\n",
       "</div>"
      ],
      "text/plain": [
       "   instanceID  label  creativeID   userID  sitesetID  positionType  \\\n",
       "0           1     -1        3745  1164848          0             1   \n",
       "1         178     -1        3745  2170066          0             1   \n",
       "2         284     -1        2284   736708          0             1   \n",
       "3        3478     -1        6490  1621409          0             1   \n",
       "4        3810     -1        2572   647667          0             1   \n",
       "\n",
       "   connectionType  telecomsOperator  hour  \n",
       "0               1                 3     0  \n",
       "1               1                 2     0  \n",
       "2               1                 1     0  \n",
       "3               1                 0     0  \n",
       "4               1                 2     0  "
      ]
     },
     "execution_count": 12,
     "metadata": {},
     "output_type": "execute_result"
    }
   ],
   "source": [
    "test_ol_selected = test_ol_df[selected_feature]\n",
    "test_ol_selected.head()"
   ]
  },
  {
   "cell_type": "code",
   "execution_count": null,
   "metadata": {
    "collapsed": true
   },
   "outputs": [],
   "source": []
  }
 ],
 "metadata": {
  "kernelspec": {
   "display_name": "Python 3",
   "language": "python",
   "name": "python3"
  },
  "language_info": {
   "codemirror_mode": {
    "name": "ipython",
    "version": 3
   },
   "file_extension": ".py",
   "mimetype": "text/x-python",
   "name": "python",
   "nbconvert_exporter": "python",
   "pygments_lexer": "ipython3",
   "version": "3.6.0"
  }
 },
 "nbformat": 4,
 "nbformat_minor": 2
}
