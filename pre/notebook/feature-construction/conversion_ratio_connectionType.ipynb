{
 "cells": [
  {
   "cell_type": "code",
   "execution_count": 1,
   "metadata": {
    "collapsed": true
   },
   "outputs": [],
   "source": [
    "import pandas as pd\n",
    "from pandas import DataFrame\n",
    "from pandas import Series\n",
    "\n",
    "import numpy as np\n",
    "import matplotlib.pyplot as plt"
   ]
  },
  {
   "cell_type": "markdown",
   "metadata": {},
   "source": [
    "### 设置路径"
   ]
  },
  {
   "cell_type": "code",
   "execution_count": 2,
   "metadata": {
    "collapsed": true
   },
   "outputs": [],
   "source": [
    "path_pre = '../../'\n",
    "path_original_dataset = path_pre + 'original-dataset/'\n",
    "path_intermediate_dataset = path_pre + 'intermediate-dataset/'"
   ]
  },
  {
   "cell_type": "markdown",
   "metadata": {},
   "source": [
    "### 加载数据"
   ]
  },
  {
   "cell_type": "code",
   "execution_count": 3,
   "metadata": {
    "collapsed": false
   },
   "outputs": [
    {
     "data": {
      "text/html": [
       "<div>\n",
       "<table border=\"1\" class=\"dataframe\">\n",
       "  <thead>\n",
       "    <tr style=\"text-align: right;\">\n",
       "      <th></th>\n",
       "      <th>label</th>\n",
       "      <th>clickTime</th>\n",
       "      <th>conversionTime</th>\n",
       "      <th>creativeID</th>\n",
       "      <th>userID</th>\n",
       "      <th>positionID</th>\n",
       "      <th>connectionType</th>\n",
       "      <th>telecomsOperator</th>\n",
       "    </tr>\n",
       "  </thead>\n",
       "  <tbody>\n",
       "    <tr>\n",
       "      <th>3608772</th>\n",
       "      <td>0</td>\n",
       "      <td>301730</td>\n",
       "      <td>NaN</td>\n",
       "      <td>4565</td>\n",
       "      <td>1</td>\n",
       "      <td>1803</td>\n",
       "      <td>2</td>\n",
       "      <td>1.0</td>\n",
       "    </tr>\n",
       "    <tr>\n",
       "      <th>2362282</th>\n",
       "      <td>0</td>\n",
       "      <td>261335</td>\n",
       "      <td>NaN</td>\n",
       "      <td>4121</td>\n",
       "      <td>2</td>\n",
       "      <td>1842</td>\n",
       "      <td>1</td>\n",
       "      <td>2.0</td>\n",
       "    </tr>\n",
       "    <tr>\n",
       "      <th>415865</th>\n",
       "      <td>0</td>\n",
       "      <td>181549</td>\n",
       "      <td>NaN</td>\n",
       "      <td>274</td>\n",
       "      <td>4</td>\n",
       "      <td>3322</td>\n",
       "      <td>1</td>\n",
       "      <td>2.0</td>\n",
       "    </tr>\n",
       "    <tr>\n",
       "      <th>2139782</th>\n",
       "      <td>0</td>\n",
       "      <td>251726</td>\n",
       "      <td>NaN</td>\n",
       "      <td>3362</td>\n",
       "      <td>5</td>\n",
       "      <td>7434</td>\n",
       "      <td>1</td>\n",
       "      <td>1.0</td>\n",
       "    </tr>\n",
       "    <tr>\n",
       "      <th>2301428</th>\n",
       "      <td>0</td>\n",
       "      <td>260931</td>\n",
       "      <td>NaN</td>\n",
       "      <td>1858</td>\n",
       "      <td>5</td>\n",
       "      <td>7434</td>\n",
       "      <td>1</td>\n",
       "      <td>1.0</td>\n",
       "    </tr>\n",
       "  </tbody>\n",
       "</table>\n",
       "</div>"
      ],
      "text/plain": [
       "         label  clickTime  conversionTime  creativeID  userID  positionID  \\\n",
       "3608772      0     301730             NaN        4565       1        1803   \n",
       "2362282      0     261335             NaN        4121       2        1842   \n",
       "415865       0     181549             NaN         274       4        3322   \n",
       "2139782      0     251726             NaN        3362       5        7434   \n",
       "2301428      0     260931             NaN        1858       5        7434   \n",
       "\n",
       "         connectionType  telecomsOperator  \n",
       "3608772               2               1.0  \n",
       "2362282               1               2.0  \n",
       "415865                1               2.0  \n",
       "2139782               1               1.0  \n",
       "2301428               1               1.0  "
      ]
     },
     "execution_count": 3,
     "metadata": {},
     "output_type": "execute_result"
    }
   ],
   "source": [
    "train_df = pd.read_hdf(path_intermediate_dataset + 'train.h5')\n",
    "train_df.head()"
   ]
  },
  {
   "cell_type": "markdown",
   "metadata": {},
   "source": [
    "### 提取 connectionType 的转化率特征"
   ]
  },
  {
   "cell_type": "code",
   "execution_count": 4,
   "metadata": {
    "collapsed": false
   },
   "outputs": [
    {
     "data": {
      "text/plain": [
       "0      54586\n",
       "1    3002059\n",
       "2     539904\n",
       "3     109648\n",
       "4      43331\n",
       "Name: connectionType, dtype: int64"
      ]
     },
     "execution_count": 4,
     "metadata": {},
     "output_type": "execute_result"
    }
   ],
   "source": [
    "distribution_connectionType = train_df['connectionType'].value_counts(dropna=False)\n",
    "distribution_connectionType.sort_index(inplace=True)\n",
    "distribution_connectionType"
   ]
  },
  {
   "cell_type": "code",
   "execution_count": 5,
   "metadata": {
    "collapsed": false
   },
   "outputs": [
    {
     "data": {
      "text/plain": [
       "0      209\n",
       "1    87556\n",
       "2     4443\n",
       "3      773\n",
       "4      281\n",
       "Name: connectionType, dtype: int64"
      ]
     },
     "execution_count": 5,
     "metadata": {},
     "output_type": "execute_result"
    }
   ],
   "source": [
    "distribution_connectionType_positive = train_df.loc[train_df['label'] == 1, 'connectionType'].value_counts(dropna=False)\n",
    "distribution_connectionType_positive.sort_index(inplace=True)\n",
    "distribution_connectionType_positive"
   ]
  },
  {
   "cell_type": "code",
   "execution_count": 6,
   "metadata": {
    "collapsed": false
   },
   "outputs": [
    {
     "data": {
      "text/plain": [
       "0    0.003829\n",
       "1    0.029165\n",
       "2    0.008229\n",
       "3    0.007050\n",
       "4    0.006485\n",
       "Name: connectionType, dtype: float64"
      ]
     },
     "execution_count": 6,
     "metadata": {},
     "output_type": "execute_result"
    }
   ],
   "source": [
    "distribution_connectionType_ratio = distribution_connectionType_positive / distribution_connectionType\n",
    "distribution_connectionType_ratio"
   ]
  },
  {
   "cell_type": "code",
   "execution_count": 7,
   "metadata": {
    "collapsed": false
   },
   "outputs": [
    {
     "data": {
      "text/plain": [
       "0    0.000000\n",
       "1    1.000000\n",
       "2    0.173679\n",
       "3    0.127129\n",
       "4    0.104835\n",
       "Name: connectionType, dtype: float64"
      ]
     },
     "execution_count": 7,
     "metadata": {},
     "output_type": "execute_result"
    }
   ],
   "source": [
    "# 归一化\n",
    "mx = distribution_connectionType_ratio.max()\n",
    "mn = distribution_connectionType_ratio.min()\n",
    "distribution_connectionType_ratio = (distribution_connectionType_ratio - mn) / (mx - mn)\n",
    "distribution_connectionType_ratio"
   ]
  },
  {
   "cell_type": "markdown",
   "metadata": {},
   "source": [
    "### 存储"
   ]
  },
  {
   "cell_type": "code",
   "execution_count": 8,
   "metadata": {
    "collapsed": false
   },
   "outputs": [
    {
     "data": {
      "text/html": [
       "<div>\n",
       "<table border=\"1\" class=\"dataframe\">\n",
       "  <thead>\n",
       "    <tr style=\"text-align: right;\">\n",
       "      <th></th>\n",
       "      <th>connectionType</th>\n",
       "    </tr>\n",
       "  </thead>\n",
       "  <tbody>\n",
       "    <tr>\n",
       "      <th>0</th>\n",
       "      <td>0.000000</td>\n",
       "    </tr>\n",
       "    <tr>\n",
       "      <th>1</th>\n",
       "      <td>1.000000</td>\n",
       "    </tr>\n",
       "    <tr>\n",
       "      <th>2</th>\n",
       "      <td>0.173679</td>\n",
       "    </tr>\n",
       "    <tr>\n",
       "      <th>3</th>\n",
       "      <td>0.127129</td>\n",
       "    </tr>\n",
       "    <tr>\n",
       "      <th>4</th>\n",
       "      <td>0.104835</td>\n",
       "    </tr>\n",
       "  </tbody>\n",
       "</table>\n",
       "</div>"
      ],
      "text/plain": [
       "   connectionType\n",
       "0        0.000000\n",
       "1        1.000000\n",
       "2        0.173679\n",
       "3        0.127129\n",
       "4        0.104835"
      ]
     },
     "execution_count": 8,
     "metadata": {},
     "output_type": "execute_result"
    }
   ],
   "source": [
    "distribution_connectionType_ratio = DataFrame(distribution_connectionType_ratio)\n",
    "distribution_connectionType_ratio.head()"
   ]
  },
  {
   "cell_type": "code",
   "execution_count": 9,
   "metadata": {
    "collapsed": false
   },
   "outputs": [
    {
     "data": {
      "text/html": [
       "<div>\n",
       "<table border=\"1\" class=\"dataframe\">\n",
       "  <thead>\n",
       "    <tr style=\"text-align: right;\">\n",
       "      <th></th>\n",
       "      <th>connectionType</th>\n",
       "      <th>conversion_ratio_connectionType</th>\n",
       "    </tr>\n",
       "  </thead>\n",
       "  <tbody>\n",
       "    <tr>\n",
       "      <th>0</th>\n",
       "      <td>0</td>\n",
       "      <td>0.000000</td>\n",
       "    </tr>\n",
       "    <tr>\n",
       "      <th>1</th>\n",
       "      <td>1</td>\n",
       "      <td>1.000000</td>\n",
       "    </tr>\n",
       "    <tr>\n",
       "      <th>2</th>\n",
       "      <td>2</td>\n",
       "      <td>0.173679</td>\n",
       "    </tr>\n",
       "    <tr>\n",
       "      <th>3</th>\n",
       "      <td>3</td>\n",
       "      <td>0.127129</td>\n",
       "    </tr>\n",
       "    <tr>\n",
       "      <th>4</th>\n",
       "      <td>4</td>\n",
       "      <td>0.104835</td>\n",
       "    </tr>\n",
       "  </tbody>\n",
       "</table>\n",
       "</div>"
      ],
      "text/plain": [
       "   connectionType  conversion_ratio_connectionType\n",
       "0               0                         0.000000\n",
       "1               1                         1.000000\n",
       "2               2                         0.173679\n",
       "3               3                         0.127129\n",
       "4               4                         0.104835"
      ]
     },
     "execution_count": 9,
     "metadata": {},
     "output_type": "execute_result"
    }
   ],
   "source": [
    "distribution_connectionType_ratio.reset_index(inplace=True)\n",
    "distribution_connectionType_ratio.columns = ['connectionType', 'conversion_ratio_connectionType']\n",
    "distribution_connectionType_ratio.head()"
   ]
  },
  {
   "cell_type": "code",
   "execution_count": null,
   "metadata": {
    "collapsed": true
   },
   "outputs": [],
   "source": []
  }
 ],
 "metadata": {
  "kernelspec": {
   "display_name": "Python 3",
   "language": "python",
   "name": "python3"
  },
  "language_info": {
   "codemirror_mode": {
    "name": "ipython",
    "version": 3
   },
   "file_extension": ".py",
   "mimetype": "text/x-python",
   "name": "python",
   "nbconvert_exporter": "python",
   "pygments_lexer": "ipython3",
   "version": "3.6.0"
  }
 },
 "nbformat": 4,
 "nbformat_minor": 2
}
