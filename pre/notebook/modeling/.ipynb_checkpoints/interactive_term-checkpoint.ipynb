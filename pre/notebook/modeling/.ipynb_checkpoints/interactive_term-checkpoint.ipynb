{
 "cells": [
  {
   "cell_type": "code",
   "execution_count": 1,
   "metadata": {
    "collapsed": false
   },
   "outputs": [],
   "source": [
    "from scipy.sparse import load_npz\n",
    "import numpy as np"
   ]
  },
  {
   "cell_type": "markdown",
   "metadata": {},
   "source": [
    "### 设置路径"
   ]
  },
  {
   "cell_type": "code",
   "execution_count": 2,
   "metadata": {
    "collapsed": true
   },
   "outputs": [],
   "source": [
    "path_pre = '../../'\n",
    "path_intermediate_dataset = path_pre + 'intermediate-dataset/'\n",
    "path_modeling_dataset = path_pre + 'modeling-dataset/'"
   ]
  },
  {
   "cell_type": "markdown",
   "metadata": {},
   "source": [
    "### 加载数据"
   ]
  },
  {
   "cell_type": "code",
   "execution_count": 3,
   "metadata": {
    "collapsed": false
   },
   "outputs": [],
   "source": [
    "context_csr = load_npz(path_modeling_dataset + 'context_csr.npz')\n",
    "context_csr_test_ol = load_npz(path_modeling_dataset + 'context_csr_test_ol.npz')\n",
    "\n",
    "user_csr = load_npz(path_modeling_dataset + 'user_csr.npz')\n",
    "user_csr_test_ol = load_npz(path_modeling_dataset + 'user_csr_test_ol.npz')\n",
    "\n",
    "ad_csr = load_npz(path_modeling_dataset + 'ad_csr.npz')\n",
    "ad_csr_test_ol = load_npz(path_modeling_dataset + 'ad_csr_test_ol.npz')"
   ]
  },
  {
   "cell_type": "code",
   "execution_count": null,
   "metadata": {
    "collapsed": true
   },
   "outputs": [],
   "source": [
    "def interactive_term_3group(A, B, C):\n",
    "    from scipy.sparse import hstack\n",
    "    # 选择列最少的那个来遍历，要求把列最少的传入A,其次B\n",
    "    A_B_list = []\n",
    "    A_C_list = []\n",
    "    B_C_list = []\n",
    "    for i in range(np.shape(A)[1]):\n",
    "        A_B_list.append(B.multiply(A[:, i]))\n",
    "        A_C_list.append(C.multiply(A[:, i]))\n",
    "    for i in range(np.shape(B)[1]):\n",
    "        B_C_list.append(C.multiply(B[:, i]))\n",
    "    all_list = A_B_list + A_C_list + B_C_list\n",
    "    return hstack(all_list, format='csr')"
   ]
  },
  {
   "cell_type": "code",
   "execution_count": 4,
   "metadata": {
    "collapsed": true
   },
   "outputs": [],
   "source": [
    "def interactive_term_2group(A, B):\n",
    "    from scipy.sparse import hstack\n",
    "    A_B_list = []\n",
    "    for i in range(np.shape(A)[1]):\n",
    "        A_B_list.append(B.multiply(A[:, i]))\n",
    "    return hstack(A_B_list, format='csr')"
   ]
  },
  {
   "cell_type": "code",
   "execution_count": null,
   "metadata": {
    "collapsed": true
   },
   "outputs": [],
   "source": [
    "interactive_term = interactive_term_2group(ad_csr, context_csr)"
   ]
  },
  {
   "cell_type": "code",
   "execution_count": null,
   "metadata": {
    "collapsed": true
   },
   "outputs": [],
   "source": []
  },
  {
   "cell_type": "code",
   "execution_count": null,
   "metadata": {
    "collapsed": false
   },
   "outputs": [],
   "source": [
    "interactive_term = interactive_term_3group(ad_csr, context_csr, user_csr)"
   ]
  },
  {
   "cell_type": "code",
   "execution_count": null,
   "metadata": {
    "collapsed": true
   },
   "outputs": [],
   "source": [
    "interactive_term_test_ol = interactive_term_3group(ad_csr_test_ol, context_csr_test_ol, user_csr_test_ol)"
   ]
  }
 ],
 "metadata": {
  "kernelspec": {
   "display_name": "Python 3",
   "language": "python",
   "name": "python3"
  },
  "language_info": {
   "codemirror_mode": {
    "name": "ipython",
    "version": 3
   },
   "file_extension": ".py",
   "mimetype": "text/x-python",
   "name": "python",
   "nbconvert_exporter": "python",
   "pygments_lexer": "ipython3",
   "version": "3.6.0"
  }
 },
 "nbformat": 4,
 "nbformat_minor": 2
}
